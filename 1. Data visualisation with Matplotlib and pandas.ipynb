{
 "cells": [
  {
   "cell_type": "markdown",
   "id": "b0ae9219-8643-4169-ae27-d74d3aba57a2",
   "metadata": {},
   "source": [
    "# Introduction"
   ]
  },
  {
   "cell_type": "markdown",
   "id": "e95c8c9d-ee7d-4967-8551-6a3af73a8bc2",
   "metadata": {},
   "source": [
    "Data visualisation is one the most powerful tools when communicating with data. Every data point tells a story and data visualisation helps communicate the meaning and beauty of the data. Data visualisation can also be part of the exploratory process. For instance, visualisation can help identify outliers and the data manipulation and transformations required to better present the data or build better models.\n",
    "\n",
    "Python offers many libraries for making static or dynamic visualisations. In this notebook, we will learn foundational visualisation techniques using matplotlib, pandas, seaboard, and plotly.\n",
    "\n",
    "In particular, the learning objectives are:\n",
    "- Understaing matplotlib figures and plots;\n",
    "- Customising and annotating matplotlib plots;\n",
    "- Plotting different types of graphs including bar, histogram, density, boxplot, and scatter plots;\n",
    "- Data visualisation using seaborn, an efficient Python library based on matplotlib; and \n",
    "- Plotting using plotly, another Python library for advanced and interactive data visualisation.\n",
    "\n",
    "\n",
    "\n"
   ]
  },
  {
   "cell_type": "markdown",
   "id": "b28a8f21-56d0-4c8c-947b-e98b2711d23c",
   "metadata": {},
   "source": [
    "# Visualisation with matplotlib"
   ]
  },
  {
   "cell_type": "markdown",
   "id": "cc6b93a3-7313-40f7-9be3-0e75a1bf5f96",
   "metadata": {},
   "source": [
    "## What is matplotlib?"
   ]
  },
  {
   "cell_type": "markdown",
   "id": "541f548d-78cd-4bf3-bb2a-3317e583b6eb",
   "metadata": {},
   "source": [
    "`matplotlib` is a Python plotting library for creating two dimensional graphs. It was initially developed to enable a MATLAB-like plotting interface in Python. Since then it grown an active development community to simplify interactive plotting from Jupyter notebook. \n",
    "\n",
    "To enable interactive plotting in Jupyter notebook, execute the following command in a cell."
   ]
  },
  {
   "cell_type": "code",
   "execution_count": 1,
   "id": "ddefecf2-ecf7-4b94-ab74-d9892dce29d5",
   "metadata": {},
   "outputs": [],
   "source": [
    "%matplotlib inline"
   ]
  },
  {
   "cell_type": "markdown",
   "id": "0dd2982d-bccd-4e83-9eb9-a7b090eb82ec",
   "metadata": {},
   "source": [
    "To import matplotlib run the following lines of code:"
   ]
  },
  {
   "cell_type": "code",
   "execution_count": 2,
   "id": "3a17edd5-d264-4b38-a06e-a31d7788ac34",
   "metadata": {},
   "outputs": [],
   "source": [
    "import matplotlib.pyplot as plt\n",
    "import pandas as pd"
   ]
  },
  {
   "cell_type": "markdown",
   "id": "2206b5e1-c393-45e2-891d-c1c23ee9bd4d",
   "metadata": {},
   "source": [
    "## Perth Metro Monthly Rainfall Dataset"
   ]
  },
  {
   "cell_type": "markdown",
   "id": "e0ff96ad-3cdd-4460-9208-0b6002960384",
   "metadata": {},
   "source": [
    "The monthly rainfall data (included with this notebook) is the total of all available daily rainfall for the month, from 1993 to 2021. Observations of daily rainfall are nominally made at 9 am local clock time and record the total for the previous 24 hours. Rainfall includes all forms of precipiation that reach the ground, such as rain, drizzle, hail and snow.\n",
    "\n",
    "**Data File Format**\n",
    "\n",
    "**Column, Explanation**  \n",
    " 1, \t\tProduct code  \n",
    " 2,\t\tBureau of Meteorology station number  \n",
    " 3,\t\tYear  \n",
    " 4,\tMonth  \n",
    " 5,\t\tMonthly rainfall (millimetres)  \n",
    " 6,\t\tQuality of monthly rainfall  \n",
    "\n",
    "\n",
    "The data is obtained from the Bureau of Meteorology website: http://www.bom.gov.au/jsp/ncc/cdio/weatherData/av?p_nccObsCode=139&p_display_type=dataFile&p_startYear=&p_c=&p_stn_num=009225"
   ]
  },
  {
   "cell_type": "markdown",
   "id": "4bc3cb08-f537-47a2-9c8d-7299b35cbbdf",
   "metadata": {},
   "source": [
    "## Data wrangling with pandas"
   ]
  },
  {
   "cell_type": "markdown",
   "id": "81e9d79f-5924-4983-aa45-f83f8419b518",
   "metadata": {},
   "source": [
    "The `read_csv()` function can be used to read data file from disk into a `pandas` DataFrame."
   ]
  },
  {
   "cell_type": "code",
   "execution_count": 3,
   "id": "8876a2c1-15f2-4e5c-9f80-49d71b70abde",
   "metadata": {},
   "outputs": [],
   "source": [
    "rainfall_perth = pd.read_csv(\"perth-rainfall-data.csv\")"
   ]
  },
  {
   "cell_type": "markdown",
   "id": "dcde8f2a-8eaa-4432-b63e-4b9fe609b331",
   "metadata": {},
   "source": [
    "The `.head()` method can be used to print the first five rows. To view more than five rows of the DataFrame, pass a integer value to the `.head()` function."
   ]
  },
  {
   "cell_type": "code",
   "execution_count": 4,
   "id": "49497dd4-b237-4374-9cfc-02112d66b360",
   "metadata": {},
   "outputs": [
    {
     "data": {
      "text/html": [
       "<div>\n",
       "<style scoped>\n",
       "    .dataframe tbody tr th:only-of-type {\n",
       "        vertical-align: middle;\n",
       "    }\n",
       "\n",
       "    .dataframe tbody tr th {\n",
       "        vertical-align: top;\n",
       "    }\n",
       "\n",
       "    .dataframe thead th {\n",
       "        text-align: right;\n",
       "    }\n",
       "</style>\n",
       "<table border=\"1\" class=\"dataframe\">\n",
       "  <thead>\n",
       "    <tr style=\"text-align: right;\">\n",
       "      <th></th>\n",
       "      <th>Product code</th>\n",
       "      <th>Station number</th>\n",
       "      <th>Year</th>\n",
       "      <th>Month</th>\n",
       "      <th>Monthly Precipitation Total (millimetres)</th>\n",
       "      <th>Quality</th>\n",
       "    </tr>\n",
       "  </thead>\n",
       "  <tbody>\n",
       "    <tr>\n",
       "      <th>0</th>\n",
       "      <td>IDCJAC0001</td>\n",
       "      <td>9225</td>\n",
       "      <td>1993</td>\n",
       "      <td>2</td>\n",
       "      <td>27.6</td>\n",
       "      <td>Y</td>\n",
       "    </tr>\n",
       "    <tr>\n",
       "      <th>1</th>\n",
       "      <td>IDCJAC0001</td>\n",
       "      <td>9225</td>\n",
       "      <td>1993</td>\n",
       "      <td>3</td>\n",
       "      <td>5.8</td>\n",
       "      <td>Y</td>\n",
       "    </tr>\n",
       "    <tr>\n",
       "      <th>2</th>\n",
       "      <td>IDCJAC0001</td>\n",
       "      <td>9225</td>\n",
       "      <td>1993</td>\n",
       "      <td>4</td>\n",
       "      <td>14.6</td>\n",
       "      <td>Y</td>\n",
       "    </tr>\n",
       "    <tr>\n",
       "      <th>3</th>\n",
       "      <td>IDCJAC0001</td>\n",
       "      <td>9225</td>\n",
       "      <td>1993</td>\n",
       "      <td>5</td>\n",
       "      <td>129.6</td>\n",
       "      <td>Y</td>\n",
       "    </tr>\n",
       "    <tr>\n",
       "      <th>4</th>\n",
       "      <td>IDCJAC0001</td>\n",
       "      <td>9225</td>\n",
       "      <td>1993</td>\n",
       "      <td>6</td>\n",
       "      <td>64.4</td>\n",
       "      <td>Y</td>\n",
       "    </tr>\n",
       "    <tr>\n",
       "      <th>5</th>\n",
       "      <td>IDCJAC0001</td>\n",
       "      <td>9225</td>\n",
       "      <td>1993</td>\n",
       "      <td>7</td>\n",
       "      <td>123.2</td>\n",
       "      <td>Y</td>\n",
       "    </tr>\n",
       "    <tr>\n",
       "      <th>6</th>\n",
       "      <td>IDCJAC0001</td>\n",
       "      <td>9225</td>\n",
       "      <td>1993</td>\n",
       "      <td>8</td>\n",
       "      <td>158.4</td>\n",
       "      <td>Y</td>\n",
       "    </tr>\n",
       "    <tr>\n",
       "      <th>7</th>\n",
       "      <td>IDCJAC0001</td>\n",
       "      <td>9225</td>\n",
       "      <td>1993</td>\n",
       "      <td>9</td>\n",
       "      <td>82.7</td>\n",
       "      <td>Y</td>\n",
       "    </tr>\n",
       "    <tr>\n",
       "      <th>8</th>\n",
       "      <td>IDCJAC0001</td>\n",
       "      <td>9225</td>\n",
       "      <td>1993</td>\n",
       "      <td>11</td>\n",
       "      <td>7.0</td>\n",
       "      <td>Y</td>\n",
       "    </tr>\n",
       "    <tr>\n",
       "      <th>9</th>\n",
       "      <td>IDCJAC0001</td>\n",
       "      <td>9225</td>\n",
       "      <td>1993</td>\n",
       "      <td>12</td>\n",
       "      <td>2.4</td>\n",
       "      <td>Y</td>\n",
       "    </tr>\n",
       "    <tr>\n",
       "      <th>10</th>\n",
       "      <td>IDCJAC0001</td>\n",
       "      <td>9225</td>\n",
       "      <td>1994</td>\n",
       "      <td>1</td>\n",
       "      <td>1.6</td>\n",
       "      <td>Y</td>\n",
       "    </tr>\n",
       "    <tr>\n",
       "      <th>11</th>\n",
       "      <td>IDCJAC0001</td>\n",
       "      <td>9225</td>\n",
       "      <td>1994</td>\n",
       "      <td>2</td>\n",
       "      <td>0.2</td>\n",
       "      <td>Y</td>\n",
       "    </tr>\n",
       "    <tr>\n",
       "      <th>12</th>\n",
       "      <td>IDCJAC0001</td>\n",
       "      <td>9225</td>\n",
       "      <td>1994</td>\n",
       "      <td>3</td>\n",
       "      <td>3.8</td>\n",
       "      <td>Y</td>\n",
       "    </tr>\n",
       "    <tr>\n",
       "      <th>13</th>\n",
       "      <td>IDCJAC0001</td>\n",
       "      <td>9225</td>\n",
       "      <td>1994</td>\n",
       "      <td>4</td>\n",
       "      <td>4.2</td>\n",
       "      <td>Y</td>\n",
       "    </tr>\n",
       "    <tr>\n",
       "      <th>14</th>\n",
       "      <td>IDCJAC0001</td>\n",
       "      <td>9225</td>\n",
       "      <td>1994</td>\n",
       "      <td>5</td>\n",
       "      <td>93.4</td>\n",
       "      <td>Y</td>\n",
       "    </tr>\n",
       "    <tr>\n",
       "      <th>15</th>\n",
       "      <td>IDCJAC0001</td>\n",
       "      <td>9225</td>\n",
       "      <td>1994</td>\n",
       "      <td>6</td>\n",
       "      <td>203.4</td>\n",
       "      <td>Y</td>\n",
       "    </tr>\n",
       "    <tr>\n",
       "      <th>16</th>\n",
       "      <td>IDCJAC0001</td>\n",
       "      <td>9225</td>\n",
       "      <td>1994</td>\n",
       "      <td>7</td>\n",
       "      <td>167.4</td>\n",
       "      <td>Y</td>\n",
       "    </tr>\n",
       "    <tr>\n",
       "      <th>17</th>\n",
       "      <td>IDCJAC0001</td>\n",
       "      <td>9225</td>\n",
       "      <td>1994</td>\n",
       "      <td>8</td>\n",
       "      <td>164.2</td>\n",
       "      <td>Y</td>\n",
       "    </tr>\n",
       "    <tr>\n",
       "      <th>18</th>\n",
       "      <td>IDCJAC0001</td>\n",
       "      <td>9225</td>\n",
       "      <td>1994</td>\n",
       "      <td>9</td>\n",
       "      <td>79.2</td>\n",
       "      <td>Y</td>\n",
       "    </tr>\n",
       "    <tr>\n",
       "      <th>19</th>\n",
       "      <td>IDCJAC0001</td>\n",
       "      <td>9225</td>\n",
       "      <td>1994</td>\n",
       "      <td>10</td>\n",
       "      <td>15.8</td>\n",
       "      <td>Y</td>\n",
       "    </tr>\n",
       "    <tr>\n",
       "      <th>20</th>\n",
       "      <td>IDCJAC0001</td>\n",
       "      <td>9225</td>\n",
       "      <td>1994</td>\n",
       "      <td>11</td>\n",
       "      <td>6.6</td>\n",
       "      <td>Y</td>\n",
       "    </tr>\n",
       "    <tr>\n",
       "      <th>21</th>\n",
       "      <td>IDCJAC0001</td>\n",
       "      <td>9225</td>\n",
       "      <td>1994</td>\n",
       "      <td>12</td>\n",
       "      <td>0.0</td>\n",
       "      <td>Y</td>\n",
       "    </tr>\n",
       "    <tr>\n",
       "      <th>22</th>\n",
       "      <td>IDCJAC0001</td>\n",
       "      <td>9225</td>\n",
       "      <td>1995</td>\n",
       "      <td>1</td>\n",
       "      <td>0.0</td>\n",
       "      <td>Y</td>\n",
       "    </tr>\n",
       "    <tr>\n",
       "      <th>23</th>\n",
       "      <td>IDCJAC0001</td>\n",
       "      <td>9225</td>\n",
       "      <td>1995</td>\n",
       "      <td>2</td>\n",
       "      <td>12.0</td>\n",
       "      <td>Y</td>\n",
       "    </tr>\n",
       "    <tr>\n",
       "      <th>24</th>\n",
       "      <td>IDCJAC0001</td>\n",
       "      <td>9225</td>\n",
       "      <td>1995</td>\n",
       "      <td>3</td>\n",
       "      <td>20.0</td>\n",
       "      <td>Y</td>\n",
       "    </tr>\n",
       "    <tr>\n",
       "      <th>25</th>\n",
       "      <td>IDCJAC0001</td>\n",
       "      <td>9225</td>\n",
       "      <td>1995</td>\n",
       "      <td>4</td>\n",
       "      <td>10.8</td>\n",
       "      <td>Y</td>\n",
       "    </tr>\n",
       "    <tr>\n",
       "      <th>26</th>\n",
       "      <td>IDCJAC0001</td>\n",
       "      <td>9225</td>\n",
       "      <td>1995</td>\n",
       "      <td>5</td>\n",
       "      <td>138.6</td>\n",
       "      <td>Y</td>\n",
       "    </tr>\n",
       "    <tr>\n",
       "      <th>27</th>\n",
       "      <td>IDCJAC0001</td>\n",
       "      <td>9225</td>\n",
       "      <td>1995</td>\n",
       "      <td>6</td>\n",
       "      <td>150.0</td>\n",
       "      <td>Y</td>\n",
       "    </tr>\n",
       "    <tr>\n",
       "      <th>28</th>\n",
       "      <td>IDCJAC0001</td>\n",
       "      <td>9225</td>\n",
       "      <td>1995</td>\n",
       "      <td>7</td>\n",
       "      <td>278.6</td>\n",
       "      <td>Y</td>\n",
       "    </tr>\n",
       "    <tr>\n",
       "      <th>29</th>\n",
       "      <td>IDCJAC0001</td>\n",
       "      <td>9225</td>\n",
       "      <td>1995</td>\n",
       "      <td>8</td>\n",
       "      <td>83.8</td>\n",
       "      <td>Y</td>\n",
       "    </tr>\n",
       "    <tr>\n",
       "      <th>30</th>\n",
       "      <td>IDCJAC0001</td>\n",
       "      <td>9225</td>\n",
       "      <td>1995</td>\n",
       "      <td>9</td>\n",
       "      <td>83.8</td>\n",
       "      <td>Y</td>\n",
       "    </tr>\n",
       "    <tr>\n",
       "      <th>31</th>\n",
       "      <td>IDCJAC0001</td>\n",
       "      <td>9225</td>\n",
       "      <td>1995</td>\n",
       "      <td>10</td>\n",
       "      <td>92.0</td>\n",
       "      <td>Y</td>\n",
       "    </tr>\n",
       "    <tr>\n",
       "      <th>32</th>\n",
       "      <td>IDCJAC0001</td>\n",
       "      <td>9225</td>\n",
       "      <td>1995</td>\n",
       "      <td>11</td>\n",
       "      <td>32.2</td>\n",
       "      <td>Y</td>\n",
       "    </tr>\n",
       "    <tr>\n",
       "      <th>33</th>\n",
       "      <td>IDCJAC0001</td>\n",
       "      <td>9225</td>\n",
       "      <td>1995</td>\n",
       "      <td>12</td>\n",
       "      <td>3.0</td>\n",
       "      <td>Y</td>\n",
       "    </tr>\n",
       "    <tr>\n",
       "      <th>34</th>\n",
       "      <td>IDCJAC0001</td>\n",
       "      <td>9225</td>\n",
       "      <td>1996</td>\n",
       "      <td>1</td>\n",
       "      <td>3.2</td>\n",
       "      <td>Y</td>\n",
       "    </tr>\n",
       "    <tr>\n",
       "      <th>35</th>\n",
       "      <td>IDCJAC0001</td>\n",
       "      <td>9225</td>\n",
       "      <td>1996</td>\n",
       "      <td>2</td>\n",
       "      <td>0.0</td>\n",
       "      <td>Y</td>\n",
       "    </tr>\n",
       "    <tr>\n",
       "      <th>36</th>\n",
       "      <td>IDCJAC0001</td>\n",
       "      <td>9225</td>\n",
       "      <td>1996</td>\n",
       "      <td>3</td>\n",
       "      <td>9.2</td>\n",
       "      <td>Y</td>\n",
       "    </tr>\n",
       "    <tr>\n",
       "      <th>37</th>\n",
       "      <td>IDCJAC0001</td>\n",
       "      <td>9225</td>\n",
       "      <td>1996</td>\n",
       "      <td>4</td>\n",
       "      <td>27.0</td>\n",
       "      <td>Y</td>\n",
       "    </tr>\n",
       "    <tr>\n",
       "      <th>38</th>\n",
       "      <td>IDCJAC0001</td>\n",
       "      <td>9225</td>\n",
       "      <td>1996</td>\n",
       "      <td>5</td>\n",
       "      <td>50.6</td>\n",
       "      <td>Y</td>\n",
       "    </tr>\n",
       "    <tr>\n",
       "      <th>39</th>\n",
       "      <td>IDCJAC0001</td>\n",
       "      <td>9225</td>\n",
       "      <td>1996</td>\n",
       "      <td>6</td>\n",
       "      <td>221.4</td>\n",
       "      <td>Y</td>\n",
       "    </tr>\n",
       "    <tr>\n",
       "      <th>40</th>\n",
       "      <td>IDCJAC0001</td>\n",
       "      <td>9225</td>\n",
       "      <td>1996</td>\n",
       "      <td>7</td>\n",
       "      <td>210.8</td>\n",
       "      <td>Y</td>\n",
       "    </tr>\n",
       "    <tr>\n",
       "      <th>41</th>\n",
       "      <td>IDCJAC0001</td>\n",
       "      <td>9225</td>\n",
       "      <td>1996</td>\n",
       "      <td>8</td>\n",
       "      <td>123.6</td>\n",
       "      <td>Y</td>\n",
       "    </tr>\n",
       "    <tr>\n",
       "      <th>42</th>\n",
       "      <td>IDCJAC0001</td>\n",
       "      <td>9225</td>\n",
       "      <td>1996</td>\n",
       "      <td>9</td>\n",
       "      <td>127.6</td>\n",
       "      <td>Y</td>\n",
       "    </tr>\n",
       "    <tr>\n",
       "      <th>43</th>\n",
       "      <td>IDCJAC0001</td>\n",
       "      <td>9225</td>\n",
       "      <td>1996</td>\n",
       "      <td>10</td>\n",
       "      <td>44.0</td>\n",
       "      <td>Y</td>\n",
       "    </tr>\n",
       "    <tr>\n",
       "      <th>44</th>\n",
       "      <td>IDCJAC0001</td>\n",
       "      <td>9225</td>\n",
       "      <td>1996</td>\n",
       "      <td>11</td>\n",
       "      <td>50.6</td>\n",
       "      <td>Y</td>\n",
       "    </tr>\n",
       "    <tr>\n",
       "      <th>45</th>\n",
       "      <td>IDCJAC0001</td>\n",
       "      <td>9225</td>\n",
       "      <td>1996</td>\n",
       "      <td>12</td>\n",
       "      <td>20.6</td>\n",
       "      <td>Y</td>\n",
       "    </tr>\n",
       "    <tr>\n",
       "      <th>46</th>\n",
       "      <td>IDCJAC0001</td>\n",
       "      <td>9225</td>\n",
       "      <td>1997</td>\n",
       "      <td>1</td>\n",
       "      <td>0.6</td>\n",
       "      <td>Y</td>\n",
       "    </tr>\n",
       "    <tr>\n",
       "      <th>47</th>\n",
       "      <td>IDCJAC0001</td>\n",
       "      <td>9225</td>\n",
       "      <td>1997</td>\n",
       "      <td>2</td>\n",
       "      <td>3.6</td>\n",
       "      <td>Y</td>\n",
       "    </tr>\n",
       "    <tr>\n",
       "      <th>48</th>\n",
       "      <td>IDCJAC0001</td>\n",
       "      <td>9225</td>\n",
       "      <td>1997</td>\n",
       "      <td>3</td>\n",
       "      <td>53.8</td>\n",
       "      <td>Y</td>\n",
       "    </tr>\n",
       "    <tr>\n",
       "      <th>49</th>\n",
       "      <td>IDCJAC0001</td>\n",
       "      <td>9225</td>\n",
       "      <td>1997</td>\n",
       "      <td>4</td>\n",
       "      <td>38.6</td>\n",
       "      <td>Y</td>\n",
       "    </tr>\n",
       "  </tbody>\n",
       "</table>\n",
       "</div>"
      ],
      "text/plain": [
       "   Product code  Station number  Year  Month  \\\n",
       "0    IDCJAC0001            9225  1993      2   \n",
       "1    IDCJAC0001            9225  1993      3   \n",
       "2    IDCJAC0001            9225  1993      4   \n",
       "3    IDCJAC0001            9225  1993      5   \n",
       "4    IDCJAC0001            9225  1993      6   \n",
       "5    IDCJAC0001            9225  1993      7   \n",
       "6    IDCJAC0001            9225  1993      8   \n",
       "7    IDCJAC0001            9225  1993      9   \n",
       "8    IDCJAC0001            9225  1993     11   \n",
       "9    IDCJAC0001            9225  1993     12   \n",
       "10   IDCJAC0001            9225  1994      1   \n",
       "11   IDCJAC0001            9225  1994      2   \n",
       "12   IDCJAC0001            9225  1994      3   \n",
       "13   IDCJAC0001            9225  1994      4   \n",
       "14   IDCJAC0001            9225  1994      5   \n",
       "15   IDCJAC0001            9225  1994      6   \n",
       "16   IDCJAC0001            9225  1994      7   \n",
       "17   IDCJAC0001            9225  1994      8   \n",
       "18   IDCJAC0001            9225  1994      9   \n",
       "19   IDCJAC0001            9225  1994     10   \n",
       "20   IDCJAC0001            9225  1994     11   \n",
       "21   IDCJAC0001            9225  1994     12   \n",
       "22   IDCJAC0001            9225  1995      1   \n",
       "23   IDCJAC0001            9225  1995      2   \n",
       "24   IDCJAC0001            9225  1995      3   \n",
       "25   IDCJAC0001            9225  1995      4   \n",
       "26   IDCJAC0001            9225  1995      5   \n",
       "27   IDCJAC0001            9225  1995      6   \n",
       "28   IDCJAC0001            9225  1995      7   \n",
       "29   IDCJAC0001            9225  1995      8   \n",
       "30   IDCJAC0001            9225  1995      9   \n",
       "31   IDCJAC0001            9225  1995     10   \n",
       "32   IDCJAC0001            9225  1995     11   \n",
       "33   IDCJAC0001            9225  1995     12   \n",
       "34   IDCJAC0001            9225  1996      1   \n",
       "35   IDCJAC0001            9225  1996      2   \n",
       "36   IDCJAC0001            9225  1996      3   \n",
       "37   IDCJAC0001            9225  1996      4   \n",
       "38   IDCJAC0001            9225  1996      5   \n",
       "39   IDCJAC0001            9225  1996      6   \n",
       "40   IDCJAC0001            9225  1996      7   \n",
       "41   IDCJAC0001            9225  1996      8   \n",
       "42   IDCJAC0001            9225  1996      9   \n",
       "43   IDCJAC0001            9225  1996     10   \n",
       "44   IDCJAC0001            9225  1996     11   \n",
       "45   IDCJAC0001            9225  1996     12   \n",
       "46   IDCJAC0001            9225  1997      1   \n",
       "47   IDCJAC0001            9225  1997      2   \n",
       "48   IDCJAC0001            9225  1997      3   \n",
       "49   IDCJAC0001            9225  1997      4   \n",
       "\n",
       "    Monthly Precipitation Total (millimetres) Quality  \n",
       "0                                        27.6       Y  \n",
       "1                                         5.8       Y  \n",
       "2                                        14.6       Y  \n",
       "3                                       129.6       Y  \n",
       "4                                        64.4       Y  \n",
       "5                                       123.2       Y  \n",
       "6                                       158.4       Y  \n",
       "7                                        82.7       Y  \n",
       "8                                         7.0       Y  \n",
       "9                                         2.4       Y  \n",
       "10                                        1.6       Y  \n",
       "11                                        0.2       Y  \n",
       "12                                        3.8       Y  \n",
       "13                                        4.2       Y  \n",
       "14                                       93.4       Y  \n",
       "15                                      203.4       Y  \n",
       "16                                      167.4       Y  \n",
       "17                                      164.2       Y  \n",
       "18                                       79.2       Y  \n",
       "19                                       15.8       Y  \n",
       "20                                        6.6       Y  \n",
       "21                                        0.0       Y  \n",
       "22                                        0.0       Y  \n",
       "23                                       12.0       Y  \n",
       "24                                       20.0       Y  \n",
       "25                                       10.8       Y  \n",
       "26                                      138.6       Y  \n",
       "27                                      150.0       Y  \n",
       "28                                      278.6       Y  \n",
       "29                                       83.8       Y  \n",
       "30                                       83.8       Y  \n",
       "31                                       92.0       Y  \n",
       "32                                       32.2       Y  \n",
       "33                                        3.0       Y  \n",
       "34                                        3.2       Y  \n",
       "35                                        0.0       Y  \n",
       "36                                        9.2       Y  \n",
       "37                                       27.0       Y  \n",
       "38                                       50.6       Y  \n",
       "39                                      221.4       Y  \n",
       "40                                      210.8       Y  \n",
       "41                                      123.6       Y  \n",
       "42                                      127.6       Y  \n",
       "43                                       44.0       Y  \n",
       "44                                       50.6       Y  \n",
       "45                                       20.6       Y  \n",
       "46                                        0.6       Y  \n",
       "47                                        3.6       Y  \n",
       "48                                       53.8       Y  \n",
       "49                                       38.6       Y  "
      ]
     },
     "execution_count": 4,
     "metadata": {},
     "output_type": "execute_result"
    }
   ],
   "source": [
    "#print first 50 rows\n",
    "rainfall_perth.head(50) "
   ]
  },
  {
   "cell_type": "code",
   "execution_count": 5,
   "id": "02b48d69-d846-46af-9670-926afd8a9e30",
   "metadata": {},
   "outputs": [
    {
     "data": {
      "text/plain": [
       "0       27.6\n",
       "1        5.8\n",
       "2       14.6\n",
       "3      129.6\n",
       "4       64.4\n",
       "       ...  \n",
       "336     40.6\n",
       "337    113.6\n",
       "338     93.6\n",
       "339    271.4\n",
       "340     56.6\n",
       "Name: Monthly Precipitation Total (millimetres), Length: 341, dtype: float64"
      ]
     },
     "execution_count": 5,
     "metadata": {},
     "output_type": "execute_result"
    }
   ],
   "source": [
    "# Select all rows of the column 'Monthly Precipitation Total (millimetres)' and store it in a pandas Series\n",
    "precip = rainfall_perth[\"Monthly Precipitation Total (millimetres)\"]\n",
    "precip"
   ]
  },
  {
   "cell_type": "markdown",
   "id": "f29859d8-e834-4edf-bcff-7dc6cb129b94",
   "metadata": {},
   "source": [
    "In the above example, `precip` is a pandas Series. The index for this Series is displayed on the left (column 1) and the values (total precipitation) are displayed on the right (column 2)."
   ]
  },
  {
   "cell_type": "code",
   "execution_count": 6,
   "id": "35545823-b633-4d97-9b8c-f0350ce8409e",
   "metadata": {},
   "outputs": [
    {
     "data": {
      "text/plain": [
       "[<matplotlib.lines.Line2D at 0x17c43ffa0>]"
      ]
     },
     "execution_count": 6,
     "metadata": {},
     "output_type": "execute_result"
    },
    {
     "data": {
      "image/png": "[encoded data removed]",
      "text/plain": [
       "<Figure size 432x288 with 1 Axes>"
      ]
     },
     "metadata": {
      "needs_background": "light"
     },
     "output_type": "display_data"
    }
   ],
   "source": [
    "# Plot \"total precipitation\" (y) versus the index (x) as lines and/or markers.\n",
    "plt.plot(precip)"
   ]
  },
  {
   "cell_type": "markdown",
   "id": "ddc6adf9-6c9a-4368-bcad-0b1ced9c7a00",
   "metadata": {},
   "source": [
    "## Figures and subplots"
   ]
  },
  {
   "cell_type": "markdown",
   "id": "827604bd-62a7-4874-9c53-75d2fe5e8021",
   "metadata": {},
   "source": [
    "A `Figure` object is the outermost container for a matplotlib graphic. Plots in matplotlib sit within a `Figure` object.   \n",
    "   \n",
    "You can create a new figure with `plt.figure()`:"
   ]
  },
  {
   "cell_type": "code",
   "execution_count": 7,
   "id": "71840104-7b80-4fc9-a947-909c4f2b97db",
   "metadata": {},
   "outputs": [
    {
     "data": {
      "text/plain": [
       "<Figure size 432x288 with 0 Axes>"
      ]
     },
     "metadata": {},
     "output_type": "display_data"
    }
   ],
   "source": [
    "fig = plt.figure()"
   ]
  },
  {
   "cell_type": "markdown",
   "id": "c2613b4c-3e97-4936-a4e1-43fbb1cea4c7",
   "metadata": {},
   "source": [
    "Before you can make plots in a figure, you have to create one or more subplots using `add_subplot`:"
   ]
  },
  {
   "cell_type": "code",
   "execution_count": 8,
   "id": "c6cc3eeb-f02a-4d10-9e88-ff6a53e938f5",
   "metadata": {},
   "outputs": [],
   "source": [
    "ax1 = fig.add_subplot(2, 2, 1)"
   ]
  },
  {
   "cell_type": "markdown",
   "id": "23603703-f657-4d7e-b5c6-140540cf26c9",
   "metadata": {},
   "source": [
    "The above code creates a grid of 2 rows and 2 columns (four plots in total), where `ax1` is the first of the four subplots."
   ]
  },
  {
   "cell_type": "markdown",
   "id": "d75181f3-86e4-400a-820f-e0db3d0a0f76",
   "metadata": {},
   "source": [
    "To create two more subplots, you run the following code. The objects returned by `fig.add_subplot` here are `AxesSubplot` objects. You can directly plot on the other empty subplots by calling each one’s instance method"
   ]
  },
  {
   "cell_type": "code",
   "execution_count": 9,
   "id": "4be03cf5-7e64-4c14-a056-fe385c30de80",
   "metadata": {},
   "outputs": [],
   "source": [
    "ax2 = fig.add_subplot(2, 2, 2)\n",
    "ax3 = fig.add_subplot(2, 2, 3)"
   ]
  },
  {
   "cell_type": "code",
   "execution_count": 10,
   "id": "45bda389-bed8-4cca-ad94-946e4d21b1f7",
   "metadata": {},
   "outputs": [
    {
     "data": {
      "image/png": "[encoded data removed]",
      "text/plain": [
       "<Figure size 432x288 with 3 Axes>"
      ]
     },
     "execution_count": 10,
     "metadata": {},
     "output_type": "execute_result"
    }
   ],
   "source": [
    "# After creating three subplots on a 2x3 grid, the figure looks like this.\n",
    "fig"
   ]
  },
  {
   "cell_type": "markdown",
   "id": "c10f5ad6-912a-4983-ba18-fa2199588441",
   "metadata": {},
   "source": [
    "The code below plots a histogram of the `Monthly Precipitation Total (millimetres)` on subplot1."
   ]
  },
  {
   "cell_type": "code",
   "execution_count": 11,
   "id": "236dec01-61ad-4566-a90a-7a2b751bd0e5",
   "metadata": {},
   "outputs": [
    {
     "data": {
      "text/plain": [
       "(array([94., 48., 31., 24., 16., 16., 22., 16., 21., 10., 17.,  5.,  9.,\n",
       "         4.,  1.,  3.,  1.,  0.,  1.,  2.]),\n",
       " array([  0.  ,  13.93,  27.86,  41.79,  55.72,  69.65,  83.58,  97.51,\n",
       "        111.44, 125.37, 139.3 , 153.23, 167.16, 181.09, 195.02, 208.95,\n",
       "        222.88, 236.81, 250.74, 264.67, 278.6 ]),\n",
       " <BarContainer object of 20 artists>)"
      ]
     },
     "execution_count": 11,
     "metadata": {},
     "output_type": "execute_result"
    }
   ],
   "source": [
    "ax1.hist(precip, bins=20)"
   ]
  },
  {
   "cell_type": "markdown",
   "id": "21ba70e0-e303-4c8a-94b4-5bcfe12616cf",
   "metadata": {},
   "source": [
    "The code below plots a scatter plot, where x is the `Year` column and y is `Monthly Precipitation Total (millimetres)`, on subplot2."
   ]
  },
  {
   "cell_type": "code",
   "execution_count": 12,
   "id": "abba38e2-1b45-4689-9267-ec5bc2e23987",
   "metadata": {},
   "outputs": [
    {
     "data": {
      "text/plain": [
       "<matplotlib.collections.PathCollection at 0x17c608730>"
      ]
     },
     "execution_count": 12,
     "metadata": {},
     "output_type": "execute_result"
    }
   ],
   "source": [
    "ax2.scatter(rainfall_perth.iloc[:, 2], precip)"
   ]
  },
  {
   "cell_type": "code",
   "execution_count": 13,
   "id": "d1b17db1-4657-4e2e-93b5-853945edd0b9",
   "metadata": {},
   "outputs": [
    {
     "data": {
      "text/plain": [
       "[<matplotlib.lines.Line2D at 0x17c649460>]"
      ]
     },
     "execution_count": 13,
     "metadata": {},
     "output_type": "execute_result"
    }
   ],
   "source": [
    "# this plots the the total precipitation on the y, and the index of the pandas Series on the x axis.\n",
    "ax3.plot(precip)"
   ]
  },
  {
   "cell_type": "code",
   "execution_count": 14,
   "id": "a08875c1-cc61-4b8f-a512-af0164078874",
   "metadata": {},
   "outputs": [
    {
     "data": {
      "image/png": "[encoded data removed]",
      "text/plain": [
       "<Figure size 432x288 with 3 Axes>"
      ]
     },
     "execution_count": 14,
     "metadata": {},
     "output_type": "execute_result"
    }
   ],
   "source": [
    "fig"
   ]
  },
  {
   "cell_type": "markdown",
   "id": "40946458-d383-4d93-b9da-d854d0f71ed8",
   "metadata": {},
   "source": [
    "## Customising plots"
   ]
  },
  {
   "cell_type": "code",
   "execution_count": 15,
   "id": "47de52a3-29be-4f0e-9aa1-0fbeab89fd85",
   "metadata": {},
   "outputs": [
    {
     "data": {
      "text/plain": [
       "[<matplotlib.lines.Line2D at 0x17c698640>]"
      ]
     },
     "execution_count": 15,
     "metadata": {},
     "output_type": "execute_result"
    },
    {
     "data": {
      "image/png": "[encoded data removed]",
      "text/plain": [
       "<Figure size 432x288 with 1 Axes>"
      ]
     },
     "metadata": {
      "needs_background": "light"
     },
     "output_type": "display_data"
    }
   ],
   "source": [
    "# Plot the first 50 rows of the `precip` Series\n",
    "plt.plot(precip[:50])"
   ]
  },
  {
   "cell_type": "markdown",
   "id": "869253cd-43b3-4faf-8486-ca47661e8241",
   "metadata": {},
   "source": [
    "Matplotlib's main plot function accepts a string abbreviation indicating color and line style. For instance, to plot the `Monthly Precipitation Total (millimetres)` using green dashes and green markers that highlight the actual data point, the 'go--' abbreviation can be used."
   ]
  },
  {
   "cell_type": "code",
   "execution_count": 16,
   "id": "347f08be-d4a8-4244-a0e4-65834981456c",
   "metadata": {},
   "outputs": [
    {
     "data": {
      "text/plain": [
       "[<matplotlib.lines.Line2D at 0x17c6f48e0>]"
      ]
     },
     "execution_count": 16,
     "metadata": {},
     "output_type": "execute_result"
    },
    {
     "data": {
      "image/png": "[encoded data removed]",
      "text/plain": [
       "<Figure size 432x288 with 1 Axes>"
      ]
     },
     "metadata": {
      "needs_background": "light"
     },
     "output_type": "display_data"
    }
   ],
   "source": [
    "plt.plot(precip[:50], 'go--')"
   ]
  },
  {
   "cell_type": "markdown",
   "id": "d451b852-7dcb-4a26-81a4-b893e1092d25",
   "metadata": {},
   "source": [
    "The above style can also be expressed more explicitly as such:"
   ]
  },
  {
   "cell_type": "code",
   "execution_count": 17,
   "id": "121f3552-c9ef-45b5-a658-62e543d67bb5",
   "metadata": {},
   "outputs": [
    {
     "data": {
      "text/plain": [
       "[<matplotlib.lines.Line2D at 0x17c7632b0>]"
      ]
     },
     "execution_count": 17,
     "metadata": {},
     "output_type": "execute_result"
    },
    {
     "data": {
      "image/png": "[encoded data removed]",
      "text/plain": [
       "<Figure size 432x288 with 1 Axes>"
      ]
     },
     "metadata": {
      "needs_background": "light"
     },
     "output_type": "display_data"
    }
   ],
   "source": [
    "plt.plot(precip[:50], linestyle='--', color='g', marker='o')"
   ]
  },
  {
   "cell_type": "markdown",
   "id": "46552f5c-9321-466f-a941-7d5622b0cc50",
   "metadata": {},
   "source": [
    "### Labels, Legends, and Ticks"
   ]
  },
  {
   "cell_type": "markdown",
   "id": "6fe57206-96b3-48b4-8873-fc04a088cf36",
   "metadata": {},
   "source": [
    "Legends are an important element of plots and visualisations. In matplotlib, the easiest way to develop build a legend is to pass the `label` argument when adding each piece of the plot:"
   ]
  },
  {
   "cell_type": "code",
   "execution_count": 18,
   "id": "828224dd-090a-4b3e-a4ae-5f8ca9cbf94f",
   "metadata": {},
   "outputs": [
    {
     "data": {
      "text/plain": [
       "[<matplotlib.lines.Line2D at 0x17c7c28e0>]"
      ]
     },
     "execution_count": 18,
     "metadata": {},
     "output_type": "execute_result"
    },
    {
     "data": {
      "image/png": "[encoded data removed]",
      "text/plain": [
       "<Figure size 432x288 with 1 Axes>"
      ]
     },
     "metadata": {
      "needs_background": "light"
     },
     "output_type": "display_data"
    }
   ],
   "source": [
    "plt.plot(precip[:50], linestyle='--', marker='o', label='rainfall')"
   ]
  },
  {
   "cell_type": "markdown",
   "id": "f3870c90-0402-434d-84c0-829ba86f9b6b",
   "metadata": {},
   "source": [
    "To add the legend to a plot, simply call the `legend()` function."
   ]
  },
  {
   "cell_type": "code",
   "execution_count": 19,
   "id": "bca48f2b-7288-4a2c-b277-daf447758135",
   "metadata": {},
   "outputs": [
    {
     "data": {
      "text/plain": [
       "<matplotlib.legend.Legend at 0x17c822f70>"
      ]
     },
     "execution_count": 19,
     "metadata": {},
     "output_type": "execute_result"
    },
    {
     "data": {
      "image/png": "[encoded data removed]",
      "text/plain": [
       "<Figure size 432x288 with 1 Axes>"
      ]
     },
     "metadata": {
      "needs_background": "light"
     },
     "output_type": "display_data"
    }
   ],
   "source": [
    "fig = plt.figure() #instantitate a Figure object\n",
    "ax = fig.add_subplot(1,1,1) #add a 1x1 subplot\n",
    "ax.plot(precip[:50], linestyle='--', marker='o', label='rainfall') #plot the first 50 points with the dash and marker linestyle, and include a rainfall label\n",
    "ax.legend(loc='best') # place a legend on the subplot on the upper right of the figure"
   ]
  },
  {
   "cell_type": "markdown",
   "id": "9507ef9d-d7f4-47fd-94cd-35931f730938",
   "metadata": {},
   "source": [
    "To change the x-axis ticks, it’s easiest to use `set_xticks` and `set_xticklabels`.   \n",
    "   \n",
    "The `set_xticks` tells matplotlib where to place the ticks along the data range. The `set_xticklabels` allows us to set other values as the x labels of the plot."
   ]
  },
  {
   "cell_type": "code",
   "execution_count": 20,
   "id": "ef56d5d3-31ad-426d-a7c8-f6670ca843e0",
   "metadata": {},
   "outputs": [
    {
     "data": {
      "image/png": "[encoded data removed]",
      "text/plain": [
       "<Figure size 432x288 with 1 Axes>"
      ]
     },
     "execution_count": 20,
     "metadata": {},
     "output_type": "execute_result"
    }
   ],
   "source": [
    "ax.set_xticks([10,20,30,40,50]) #sets the x ticks at 10, 20, 30, 40, and 50\n",
    "ax.set_title('Perth Rainfall 1993 – 1997') # Sets the title of the plot\n",
    "ax.set_ylabel(\"Rainfall (mm)\") # Sets the y label\n",
    "fig"
   ]
  },
  {
   "cell_type": "markdown",
   "id": "20ee895b-892c-4944-aaa8-b622b49c7806",
   "metadata": {},
   "source": [
    "### Multiple line plots"
   ]
  },
  {
   "cell_type": "markdown",
   "id": "145c8441-bcaa-493f-9724-3b5cd243c10e",
   "metadata": {},
   "source": [
    "In the following cells we are going to combine everything we have learned so far to plot and compare the total rainfall for the years 2010 and 2020."
   ]
  },
  {
   "cell_type": "markdown",
   "id": "8f94db89-3594-41a1-b71a-98e75f0d743c",
   "metadata": {},
   "source": [
    "First, we need get the 2010 rainfall data from the `rainfall_perth` DataFrame and store it in a new variable."
   ]
  },
  {
   "cell_type": "code",
   "execution_count": 21,
   "id": "7020ce89-0b3a-4811-acc2-5e83bb936c49",
   "metadata": {},
   "outputs": [
    {
     "data": {
      "text/html": [
       "<div>\n",
       "<style scoped>\n",
       "    .dataframe tbody tr th:only-of-type {\n",
       "        vertical-align: middle;\n",
       "    }\n",
       "\n",
       "    .dataframe tbody tr th {\n",
       "        vertical-align: top;\n",
       "    }\n",
       "\n",
       "    .dataframe thead th {\n",
       "        text-align: right;\n",
       "    }\n",
       "</style>\n",
       "<table border=\"1\" class=\"dataframe\">\n",
       "  <thead>\n",
       "    <tr style=\"text-align: right;\">\n",
       "      <th></th>\n",
       "      <th>Month</th>\n",
       "      <th>Monthly Precipitation Total (millimetres)</th>\n",
       "    </tr>\n",
       "  </thead>\n",
       "  <tbody>\n",
       "    <tr>\n",
       "      <th>0</th>\n",
       "      <td>1</td>\n",
       "      <td>0.0</td>\n",
       "    </tr>\n",
       "    <tr>\n",
       "      <th>1</th>\n",
       "      <td>2</td>\n",
       "      <td>0.2</td>\n",
       "    </tr>\n",
       "    <tr>\n",
       "      <th>2</th>\n",
       "      <td>3</td>\n",
       "      <td>40.4</td>\n",
       "    </tr>\n",
       "    <tr>\n",
       "      <th>3</th>\n",
       "      <td>4</td>\n",
       "      <td>25.0</td>\n",
       "    </tr>\n",
       "    <tr>\n",
       "      <th>4</th>\n",
       "      <td>5</td>\n",
       "      <td>88.6</td>\n",
       "    </tr>\n",
       "    <tr>\n",
       "      <th>5</th>\n",
       "      <td>6</td>\n",
       "      <td>51.4</td>\n",
       "    </tr>\n",
       "    <tr>\n",
       "      <th>6</th>\n",
       "      <td>7</td>\n",
       "      <td>142.0</td>\n",
       "    </tr>\n",
       "    <tr>\n",
       "      <th>7</th>\n",
       "      <td>8</td>\n",
       "      <td>63.0</td>\n",
       "    </tr>\n",
       "    <tr>\n",
       "      <th>8</th>\n",
       "      <td>9</td>\n",
       "      <td>43.6</td>\n",
       "    </tr>\n",
       "    <tr>\n",
       "      <th>9</th>\n",
       "      <td>10</td>\n",
       "      <td>20.6</td>\n",
       "    </tr>\n",
       "    <tr>\n",
       "      <th>10</th>\n",
       "      <td>11</td>\n",
       "      <td>11.6</td>\n",
       "    </tr>\n",
       "    <tr>\n",
       "      <th>11</th>\n",
       "      <td>12</td>\n",
       "      <td>17.4</td>\n",
       "    </tr>\n",
       "  </tbody>\n",
       "</table>\n",
       "</div>"
      ],
      "text/plain": [
       "    Month  Monthly Precipitation Total (millimetres)\n",
       "0       1                                        0.0\n",
       "1       2                                        0.2\n",
       "2       3                                       40.4\n",
       "3       4                                       25.0\n",
       "4       5                                       88.6\n",
       "5       6                                       51.4\n",
       "6       7                                      142.0\n",
       "7       8                                       63.0\n",
       "8       9                                       43.6\n",
       "9      10                                       20.6\n",
       "10     11                                       11.6\n",
       "11     12                                       17.4"
      ]
     },
     "execution_count": 21,
     "metadata": {},
     "output_type": "execute_result"
    }
   ],
   "source": [
    "# Filter data where year is 2010 and retrieve only the 3rd and 4th column.\n",
    "perth_rainfall_2010 = rainfall_perth[rainfall_perth['Year'] == 2010].iloc[:, 3:5]\n",
    "\n",
    "#Reset the index of the DataFrame, and use the default one instead.\n",
    "perth_rainfall_2010.reset_index(drop=True)"
   ]
  },
  {
   "cell_type": "markdown",
   "id": "7f370987-e9bf-4a1e-98ec-3950aa3cd1ea",
   "metadata": {},
   "source": [
    "Then we need get the 2020 rainfall data from the `rainfall_perth` DataFrame and store it in a new variable. Here we use the `iloc` indexing operation to select only the fourth (index 3) and the fifth (index fourth) column (Monthly Precipitation Total (millimetres))."
   ]
  },
  {
   "cell_type": "code",
   "execution_count": 22,
   "id": "cccd0e64-95d9-4c1c-b497-320a826e13de",
   "metadata": {},
   "outputs": [
    {
     "data": {
      "text/html": [
       "<div>\n",
       "<style scoped>\n",
       "    .dataframe tbody tr th:only-of-type {\n",
       "        vertical-align: middle;\n",
       "    }\n",
       "\n",
       "    .dataframe tbody tr th {\n",
       "        vertical-align: top;\n",
       "    }\n",
       "\n",
       "    .dataframe thead th {\n",
       "        text-align: right;\n",
       "    }\n",
       "</style>\n",
       "<table border=\"1\" class=\"dataframe\">\n",
       "  <thead>\n",
       "    <tr style=\"text-align: right;\">\n",
       "      <th></th>\n",
       "      <th>Month</th>\n",
       "      <th>Monthly Precipitation Total (millimetres)</th>\n",
       "    </tr>\n",
       "  </thead>\n",
       "  <tbody>\n",
       "    <tr>\n",
       "      <th>0</th>\n",
       "      <td>1</td>\n",
       "      <td>3.0</td>\n",
       "    </tr>\n",
       "    <tr>\n",
       "      <th>1</th>\n",
       "      <td>2</td>\n",
       "      <td>34.4</td>\n",
       "    </tr>\n",
       "    <tr>\n",
       "      <th>2</th>\n",
       "      <td>3</td>\n",
       "      <td>32.8</td>\n",
       "    </tr>\n",
       "    <tr>\n",
       "      <th>3</th>\n",
       "      <td>4</td>\n",
       "      <td>13.2</td>\n",
       "    </tr>\n",
       "    <tr>\n",
       "      <th>4</th>\n",
       "      <td>5</td>\n",
       "      <td>111.6</td>\n",
       "    </tr>\n",
       "    <tr>\n",
       "      <th>5</th>\n",
       "      <td>6</td>\n",
       "      <td>115.4</td>\n",
       "    </tr>\n",
       "    <tr>\n",
       "      <th>6</th>\n",
       "      <td>7</td>\n",
       "      <td>83.4</td>\n",
       "    </tr>\n",
       "    <tr>\n",
       "      <th>7</th>\n",
       "      <td>8</td>\n",
       "      <td>92.8</td>\n",
       "    </tr>\n",
       "    <tr>\n",
       "      <th>8</th>\n",
       "      <td>9</td>\n",
       "      <td>77.8</td>\n",
       "    </tr>\n",
       "    <tr>\n",
       "      <th>9</th>\n",
       "      <td>10</td>\n",
       "      <td>12.6</td>\n",
       "    </tr>\n",
       "    <tr>\n",
       "      <th>10</th>\n",
       "      <td>11</td>\n",
       "      <td>92.0</td>\n",
       "    </tr>\n",
       "    <tr>\n",
       "      <th>11</th>\n",
       "      <td>12</td>\n",
       "      <td>4.4</td>\n",
       "    </tr>\n",
       "  </tbody>\n",
       "</table>\n",
       "</div>"
      ],
      "text/plain": [
       "    Month  Monthly Precipitation Total (millimetres)\n",
       "0       1                                        3.0\n",
       "1       2                                       34.4\n",
       "2       3                                       32.8\n",
       "3       4                                       13.2\n",
       "4       5                                      111.6\n",
       "5       6                                      115.4\n",
       "6       7                                       83.4\n",
       "7       8                                       92.8\n",
       "8       9                                       77.8\n",
       "9      10                                       12.6\n",
       "10     11                                       92.0\n",
       "11     12                                        4.4"
      ]
     },
     "execution_count": 22,
     "metadata": {},
     "output_type": "execute_result"
    }
   ],
   "source": [
    "perth_rainfall_2020 = rainfall_perth[rainfall_perth['Year'] == 2020].iloc[:, 3:5]\n",
    "perth_rainfall_2020.reset_index(drop=True)"
   ]
  },
  {
   "cell_type": "code",
   "execution_count": 23,
   "id": "1a582e7c-c96f-414e-95d3-ba4e8a7d0f31",
   "metadata": {},
   "outputs": [
    {
     "data": {
      "text/plain": [
       "Text(0.5, 1.0, 'Perth Rainfall 2010 vs. 2020')"
      ]
     },
     "execution_count": 23,
     "metadata": {},
     "output_type": "execute_result"
    },
    {
     "data": {
      "image/png": "[encoded data removed]",
      "text/plain": [
       "<Figure size 432x288 with 1 Axes>"
      ]
     },
     "metadata": {
      "needs_background": "light"
     },
     "output_type": "display_data"
    }
   ],
   "source": [
    "fig= plt.figure() #instantiate a figure\n",
    "ax = fig.add_subplot(1,1,1) #add a subplot\n",
    "\n",
    "#plot Month (x) against rainfall (y) for the year 2010\n",
    "ax.plot(perth_rainfall_2010['Month'], perth_rainfall_2010['Monthly Precipitation Total (millimetres)'], linestyle='-', marker='o', label='2010')\n",
    "\n",
    "#plot Month (x) against rainfall (y) for the year 2020\n",
    "ax.plot(perth_rainfall_2020['Month'], perth_rainfall_2020['Monthly Precipitation Total (millimetres)'], linestyle='--', marker='o', label='2020')\n",
    "\n",
    "#set the xticks to include every month of the year\n",
    "ax.set_xticks([1,2,3,4,5,6,7,8,9,10,11,12])\n",
    "\n",
    "#Place the legend on the top right corner\n",
    "ax.legend(loc='best')\n",
    "\n",
    "# Set the xlabel to Month\n",
    "ax.set_xlabel('Month')\n",
    "\n",
    "# Set the ylabel to Rainfall (mm)\n",
    "ax.set_ylabel('Rainfall (mm)')\n",
    "\n",
    "#Set the title of the plot\n",
    "ax.set_title('Perth Rainfall 2010 vs. 2020')"
   ]
  },
  {
   "cell_type": "markdown",
   "id": "ebee2604-022c-49e5-bb21-df5538ef9066",
   "metadata": {},
   "source": [
    "## Exporting plots"
   ]
  },
  {
   "cell_type": "markdown",
   "id": "5f970479-50cd-4a02-b61b-479dd300e852",
   "metadata": {},
   "source": [
    "The `savefig()` function can be used to the save a figure to file. To save a PNG version of a figure, you run the following:"
   ]
  },
  {
   "cell_type": "code",
   "execution_count": 24,
   "id": "13e9a1f6-bc06-4f5a-8536-92b967784603",
   "metadata": {},
   "outputs": [],
   "source": [
    "fig.savefig(\"Perth_1993_1994_Rainfall.png\", dpi=400, bbox_inches='tight')"
   ]
  },
  {
   "cell_type": "markdown",
   "id": "a3532657-9e8a-4f35-9eee-7bcd02fcb7bb",
   "metadata": {},
   "source": [
    "Matplotlib automatically infers the file type from the file extension. For instance, if the file extension is `.pdf`, then matplotlib will save the figure as a PDF.   \n",
    "   \n",
    "The `.savefig()` function offers a number of parameters for publishing graphics.   \n",
    "The `dpi` or the dots-per-inch parameter specifies the output resolution of the figure. The higher the dpi, the higher the resolution of the figure (higher the file size)   \n",
    "The `bbox_inches` parameter trims the whitespace around the figure and outputs a figure with minimal whitespace around the plot."
   ]
  },
  {
   "cell_type": "markdown",
   "id": "0123645e-66f5-40c5-ab25-1256be426890",
   "metadata": {},
   "source": [
    "## Configuring matplotlib"
   ]
  },
  {
   "cell_type": "markdown",
   "id": "72ed7760-d5c9-465b-9373-8ab079ff0141",
   "metadata": {},
   "source": [
    "Matplotlib comes pre-configured with color schemes and settings that are primarily aimed at preparing figures for publication. However, allmost all of the default settings can be customised to your preferences and needs.   \n",
    "   \n",
    "One way to modify the configuration programmatically from Python is to use the `rc` method. For instance, to set the global default figure size to be 10x10, the following command can be used:"
   ]
  },
  {
   "cell_type": "code",
   "execution_count": 25,
   "id": "493a9c38-d070-4703-af27-1d7df4be7522",
   "metadata": {},
   "outputs": [],
   "source": [
    "plt.rc('figure', figsize=(10,10))"
   ]
  },
  {
   "cell_type": "markdown",
   "id": "4dc50af1-5c50-450b-bc72-836d16b67de6",
   "metadata": {},
   "source": [
    "The first argument in the `.rc()` function is the component you would like to customise (e.g., figure, axes, grid, xticks). This is then followed by a series of keyword arguments specifying the new parameters (e.g., font size, font family, font weight, etc.).   \n",
    "   \n",
    "An easy way to write down the options in your program is as a dict:"
   ]
  },
  {
   "cell_type": "code",
   "execution_count": 26,
   "id": "17196895-03e5-4ba4-b74a-15d73f3b4b7b",
   "metadata": {},
   "outputs": [],
   "source": [
    "# font_options = {'family' : 'monospace','weight' : 'bold','size' :8} \n",
    "# plt.rc('font', **font_options)"
   ]
  },
  {
   "cell_type": "markdown",
   "id": "1296ee90-945b-4831-a0e5-10b482197554",
   "metadata": {},
   "source": [
    "For more extensive customization and to see a list of all the options, matplotlib comes with a configuration file, `matplotlibrc`, in the `matplotlib/mpl-data` directory. If you customize this file and place it in your home directory titled `.matplotlibrc`, it will be loaded each time you use matplotlib."
   ]
  },
  {
   "cell_type": "markdown",
   "id": "be5670fc-0159-40bf-abab-fa1fda6d8d7f",
   "metadata": {
    "tags": []
   },
   "source": [
    "# Visualisation with pandas"
   ]
  },
  {
   "cell_type": "markdown",
   "id": "38e05a62-02ab-4653-b2c4-9ba3760e5822",
   "metadata": {},
   "source": [
    "Matplotlib can be a low-level tool and doing sophisticated statistical visualization can require a lot of repetitive code. In pandas we often deal with multiple columns of data, along with row and column labels. pandas itself comes with built-in methods that simplify creating visualisations from DataFrame and Series objects.   \n",
    "   \n",
    "In the following section, we will discuss some data visualisation techniques using pandas."
   ]
  },
  {
   "cell_type": "markdown",
   "id": "73a3ae15-d297-40e0-a169-f1b285c308af",
   "metadata": {},
   "source": [
    "## Line plot"
   ]
  },
  {
   "cell_type": "markdown",
   "id": "78689c3d-c8a1-4eae-8f79-ca905e7626dc",
   "metadata": {},
   "source": [
    "Pandas `Series` and `DataFrame` have a `plot()` function for generating basic plot types. By default, the `plot()` generate line plots."
   ]
  },
  {
   "cell_type": "markdown",
   "id": "8d3ad6bd-01f8-4b0b-bab2-0819eb37f7a8",
   "metadata": {},
   "source": [
    "The `groupby()` splits the data contained in a pandas object (i.e., Series, DataFrame) into groups based on one or more keys that you provide. In the following example, the `rainfall_perth` data is grouped by the `Year` key. Once this is done, the `sum()` is applied to each group, producing a new value. In this case, the value we are interested in is the total rainfall for each year. Note that this operation also sums the values in the other columns of the DataFrame. However, in this case we are not interested in those values."
   ]
  },
  {
   "cell_type": "code",
   "execution_count": 27,
   "id": "5c288e57-66fd-4f3e-ab5b-968adef10b9f",
   "metadata": {},
   "outputs": [
    {
     "data": {
      "text/html": [
       "<div>\n",
       "<style scoped>\n",
       "    .dataframe tbody tr th:only-of-type {\n",
       "        vertical-align: middle;\n",
       "    }\n",
       "\n",
       "    .dataframe tbody tr th {\n",
       "        vertical-align: top;\n",
       "    }\n",
       "\n",
       "    .dataframe thead th {\n",
       "        text-align: right;\n",
       "    }\n",
       "</style>\n",
       "<table border=\"1\" class=\"dataframe\">\n",
       "  <thead>\n",
       "    <tr style=\"text-align: right;\">\n",
       "      <th></th>\n",
       "      <th>Station number</th>\n",
       "      <th>Month</th>\n",
       "      <th>Monthly Precipitation Total (millimetres)</th>\n",
       "    </tr>\n",
       "    <tr>\n",
       "      <th>Year</th>\n",
       "      <th></th>\n",
       "      <th></th>\n",
       "      <th></th>\n",
       "    </tr>\n",
       "  </thead>\n",
       "  <tbody>\n",
       "    <tr>\n",
       "      <th>1993</th>\n",
       "      <td>92250</td>\n",
       "      <td>67</td>\n",
       "      <td>615.7</td>\n",
       "    </tr>\n",
       "    <tr>\n",
       "      <th>1994</th>\n",
       "      <td>110700</td>\n",
       "      <td>78</td>\n",
       "      <td>739.8</td>\n",
       "    </tr>\n",
       "    <tr>\n",
       "      <th>1995</th>\n",
       "      <td>110700</td>\n",
       "      <td>78</td>\n",
       "      <td>904.8</td>\n",
       "    </tr>\n",
       "    <tr>\n",
       "      <th>1996</th>\n",
       "      <td>110700</td>\n",
       "      <td>78</td>\n",
       "      <td>888.6</td>\n",
       "    </tr>\n",
       "    <tr>\n",
       "      <th>1997</th>\n",
       "      <td>110700</td>\n",
       "      <td>78</td>\n",
       "      <td>699.4</td>\n",
       "    </tr>\n",
       "    <tr>\n",
       "      <th>1998</th>\n",
       "      <td>110700</td>\n",
       "      <td>78</td>\n",
       "      <td>742.6</td>\n",
       "    </tr>\n",
       "    <tr>\n",
       "      <th>1999</th>\n",
       "      <td>110700</td>\n",
       "      <td>78</td>\n",
       "      <td>822.0</td>\n",
       "    </tr>\n",
       "    <tr>\n",
       "      <th>2000</th>\n",
       "      <td>110700</td>\n",
       "      <td>78</td>\n",
       "      <td>796.2</td>\n",
       "    </tr>\n",
       "    <tr>\n",
       "      <th>2001</th>\n",
       "      <td>110700</td>\n",
       "      <td>78</td>\n",
       "      <td>688.6</td>\n",
       "    </tr>\n",
       "    <tr>\n",
       "      <th>2002</th>\n",
       "      <td>110700</td>\n",
       "      <td>78</td>\n",
       "      <td>737.8</td>\n",
       "    </tr>\n",
       "    <tr>\n",
       "      <th>2003</th>\n",
       "      <td>110700</td>\n",
       "      <td>78</td>\n",
       "      <td>853.6</td>\n",
       "    </tr>\n",
       "    <tr>\n",
       "      <th>2004</th>\n",
       "      <td>110700</td>\n",
       "      <td>78</td>\n",
       "      <td>637.0</td>\n",
       "    </tr>\n",
       "    <tr>\n",
       "      <th>2005</th>\n",
       "      <td>110700</td>\n",
       "      <td>78</td>\n",
       "      <td>874.8</td>\n",
       "    </tr>\n",
       "    <tr>\n",
       "      <th>2006</th>\n",
       "      <td>110700</td>\n",
       "      <td>78</td>\n",
       "      <td>466.8</td>\n",
       "    </tr>\n",
       "    <tr>\n",
       "      <th>2007</th>\n",
       "      <td>110700</td>\n",
       "      <td>78</td>\n",
       "      <td>703.0</td>\n",
       "    </tr>\n",
       "    <tr>\n",
       "      <th>2008</th>\n",
       "      <td>110700</td>\n",
       "      <td>78</td>\n",
       "      <td>807.8</td>\n",
       "    </tr>\n",
       "    <tr>\n",
       "      <th>2009</th>\n",
       "      <td>110700</td>\n",
       "      <td>78</td>\n",
       "      <td>607.2</td>\n",
       "    </tr>\n",
       "    <tr>\n",
       "      <th>2010</th>\n",
       "      <td>110700</td>\n",
       "      <td>78</td>\n",
       "      <td>503.8</td>\n",
       "    </tr>\n",
       "    <tr>\n",
       "      <th>2011</th>\n",
       "      <td>110700</td>\n",
       "      <td>78</td>\n",
       "      <td>860.8</td>\n",
       "    </tr>\n",
       "    <tr>\n",
       "      <th>2012</th>\n",
       "      <td>110700</td>\n",
       "      <td>78</td>\n",
       "      <td>608.2</td>\n",
       "    </tr>\n",
       "    <tr>\n",
       "      <th>2013</th>\n",
       "      <td>110700</td>\n",
       "      <td>78</td>\n",
       "      <td>782.4</td>\n",
       "    </tr>\n",
       "    <tr>\n",
       "      <th>2014</th>\n",
       "      <td>110700</td>\n",
       "      <td>78</td>\n",
       "      <td>674.4</td>\n",
       "    </tr>\n",
       "    <tr>\n",
       "      <th>2015</th>\n",
       "      <td>110700</td>\n",
       "      <td>78</td>\n",
       "      <td>617.8</td>\n",
       "    </tr>\n",
       "    <tr>\n",
       "      <th>2016</th>\n",
       "      <td>110700</td>\n",
       "      <td>78</td>\n",
       "      <td>715.8</td>\n",
       "    </tr>\n",
       "    <tr>\n",
       "      <th>2017</th>\n",
       "      <td>110700</td>\n",
       "      <td>78</td>\n",
       "      <td>854.0</td>\n",
       "    </tr>\n",
       "    <tr>\n",
       "      <th>2018</th>\n",
       "      <td>110700</td>\n",
       "      <td>78</td>\n",
       "      <td>741.6</td>\n",
       "    </tr>\n",
       "    <tr>\n",
       "      <th>2019</th>\n",
       "      <td>101475</td>\n",
       "      <td>68</td>\n",
       "      <td>562.4</td>\n",
       "    </tr>\n",
       "    <tr>\n",
       "      <th>2020</th>\n",
       "      <td>110700</td>\n",
       "      <td>78</td>\n",
       "      <td>673.4</td>\n",
       "    </tr>\n",
       "    <tr>\n",
       "      <th>2021</th>\n",
       "      <td>73800</td>\n",
       "      <td>36</td>\n",
       "      <td>655.2</td>\n",
       "    </tr>\n",
       "  </tbody>\n",
       "</table>\n",
       "</div>"
      ],
      "text/plain": [
       "      Station number  Month  Monthly Precipitation Total (millimetres)\n",
       "Year                                                                  \n",
       "1993           92250     67                                      615.7\n",
       "1994          110700     78                                      739.8\n",
       "1995          110700     78                                      904.8\n",
       "1996          110700     78                                      888.6\n",
       "1997          110700     78                                      699.4\n",
       "1998          110700     78                                      742.6\n",
       "1999          110700     78                                      822.0\n",
       "2000          110700     78                                      796.2\n",
       "2001          110700     78                                      688.6\n",
       "2002          110700     78                                      737.8\n",
       "2003          110700     78                                      853.6\n",
       "2004          110700     78                                      637.0\n",
       "2005          110700     78                                      874.8\n",
       "2006          110700     78                                      466.8\n",
       "2007          110700     78                                      703.0\n",
       "2008          110700     78                                      807.8\n",
       "2009          110700     78                                      607.2\n",
       "2010          110700     78                                      503.8\n",
       "2011          110700     78                                      860.8\n",
       "2012          110700     78                                      608.2\n",
       "2013          110700     78                                      782.4\n",
       "2014          110700     78                                      674.4\n",
       "2015          110700     78                                      617.8\n",
       "2016          110700     78                                      715.8\n",
       "2017          110700     78                                      854.0\n",
       "2018          110700     78                                      741.6\n",
       "2019          101475     68                                      562.4\n",
       "2020          110700     78                                      673.4\n",
       "2021           73800     36                                      655.2"
      ]
     },
     "execution_count": 27,
     "metadata": {},
     "output_type": "execute_result"
    }
   ],
   "source": [
    "rainfall_by_year = rainfall_perth.groupby(['Year']).sum()\n",
    "rainfall_by_year"
   ]
  },
  {
   "cell_type": "markdown",
   "id": "88bff7e5-8d7c-430a-af7c-299565829c69",
   "metadata": {},
   "source": [
    "Pandas `plot()` function plots each of its columns as a different line on the same subplot. Here we are only interested in the `Monthly Precipitation Total` column."
   ]
  },
  {
   "cell_type": "code",
   "execution_count": 28,
   "id": "149354e4-1277-4662-b39c-a18a3f0157a8",
   "metadata": {},
   "outputs": [
    {
     "data": {
      "text/plain": [
       "<AxesSubplot:title={'center':'Rainfall in Perth'}, xlabel='Year', ylabel='Rainfall (mm)'>"
      ]
     },
     "execution_count": 28,
     "metadata": {},
     "output_type": "execute_result"
    },
    {
     "data": {
      "image/png": "[encoded data removed]",
      "text/plain": [
       "<Figure size 720x720 with 1 Axes>"
      ]
     },
     "metadata": {
      "needs_background": "light"
     },
     "output_type": "display_data"
    }
   ],
   "source": [
    "rainfall_by_year['Monthly Precipitation Total (millimetres)'].plot(title=\"Rainfall in Perth\", ylabel=\"Rainfall (mm)\", legend=True)"
   ]
  },
  {
   "cell_type": "markdown",
   "id": "21226bfd-02d0-4c50-845d-2b6a330933f4",
   "metadata": {},
   "source": [
    "## Bar plot"
   ]
  },
  {
   "cell_type": "markdown",
   "id": "f1ebb617-f257-4812-a33b-58f68dddeb95",
   "metadata": {},
   "source": [
    "The plot() functions contains a “family” of fuctions for different plot types. For example, `rainfall_by_year.plot()`, in the above examples, is equivalent to `rainfall_by_year.plot.line()`."
   ]
  },
  {
   "cell_type": "code",
   "execution_count": 29,
   "id": "91d831f2-e12c-4971-9eee-aad1cad0cdf7",
   "metadata": {},
   "outputs": [
    {
     "data": {
      "text/html": [
       "<div>\n",
       "<style scoped>\n",
       "    .dataframe tbody tr th:only-of-type {\n",
       "        vertical-align: middle;\n",
       "    }\n",
       "\n",
       "    .dataframe tbody tr th {\n",
       "        vertical-align: top;\n",
       "    }\n",
       "\n",
       "    .dataframe thead th {\n",
       "        text-align: right;\n",
       "    }\n",
       "</style>\n",
       "<table border=\"1\" class=\"dataframe\">\n",
       "  <thead>\n",
       "    <tr style=\"text-align: right;\">\n",
       "      <th></th>\n",
       "      <th>Product code</th>\n",
       "      <th>Station number</th>\n",
       "      <th>Year</th>\n",
       "      <th>Month</th>\n",
       "      <th>Monthly Precipitation Total (millimetres)</th>\n",
       "      <th>Quality</th>\n",
       "    </tr>\n",
       "  </thead>\n",
       "  <tbody>\n",
       "    <tr>\n",
       "      <th>0</th>\n",
       "      <td>IDCJAC0001</td>\n",
       "      <td>9225</td>\n",
       "      <td>1993</td>\n",
       "      <td>2</td>\n",
       "      <td>27.6</td>\n",
       "      <td>Y</td>\n",
       "    </tr>\n",
       "    <tr>\n",
       "      <th>1</th>\n",
       "      <td>IDCJAC0001</td>\n",
       "      <td>9225</td>\n",
       "      <td>1993</td>\n",
       "      <td>3</td>\n",
       "      <td>5.8</td>\n",
       "      <td>Y</td>\n",
       "    </tr>\n",
       "    <tr>\n",
       "      <th>2</th>\n",
       "      <td>IDCJAC0001</td>\n",
       "      <td>9225</td>\n",
       "      <td>1993</td>\n",
       "      <td>4</td>\n",
       "      <td>14.6</td>\n",
       "      <td>Y</td>\n",
       "    </tr>\n",
       "    <tr>\n",
       "      <th>3</th>\n",
       "      <td>IDCJAC0001</td>\n",
       "      <td>9225</td>\n",
       "      <td>1993</td>\n",
       "      <td>5</td>\n",
       "      <td>129.6</td>\n",
       "      <td>Y</td>\n",
       "    </tr>\n",
       "    <tr>\n",
       "      <th>4</th>\n",
       "      <td>IDCJAC0001</td>\n",
       "      <td>9225</td>\n",
       "      <td>1993</td>\n",
       "      <td>6</td>\n",
       "      <td>64.4</td>\n",
       "      <td>Y</td>\n",
       "    </tr>\n",
       "  </tbody>\n",
       "</table>\n",
       "</div>"
      ],
      "text/plain": [
       "  Product code  Station number  Year  Month  \\\n",
       "0   IDCJAC0001            9225  1993      2   \n",
       "1   IDCJAC0001            9225  1993      3   \n",
       "2   IDCJAC0001            9225  1993      4   \n",
       "3   IDCJAC0001            9225  1993      5   \n",
       "4   IDCJAC0001            9225  1993      6   \n",
       "\n",
       "   Monthly Precipitation Total (millimetres) Quality  \n",
       "0                                       27.6       Y  \n",
       "1                                        5.8       Y  \n",
       "2                                       14.6       Y  \n",
       "3                                      129.6       Y  \n",
       "4                                       64.4       Y  "
      ]
     },
     "execution_count": 29,
     "metadata": {},
     "output_type": "execute_result"
    }
   ],
   "source": [
    "rainfall_perth.head()"
   ]
  },
  {
   "cell_type": "code",
   "execution_count": 30,
   "id": "9838cddc-9fb6-43ba-b4ba-76f7d954c96d",
   "metadata": {},
   "outputs": [],
   "source": [
    "# Drop the \"Product code\", \"Station number\", \"Quality\" columns because we do not need them.\n",
    "rainfall_perth.drop([\"Product code\", \"Station number\", \"Quality\" ], axis=1, inplace=True)"
   ]
  },
  {
   "cell_type": "code",
   "execution_count": 31,
   "id": "492ff311-3dc5-482d-8c9a-1a79737dd298",
   "metadata": {},
   "outputs": [],
   "source": [
    "#Group the data by Month and compute the total rainfall for each month\n",
    "temp = rainfall_perth.groupby(['Month']).sum()"
   ]
  },
  {
   "cell_type": "code",
   "execution_count": 32,
   "id": "af2ff4c6-18fc-4aee-8a36-c74477d00c5d",
   "metadata": {},
   "outputs": [
    {
     "data": {
      "text/html": [
       "<div>\n",
       "<style scoped>\n",
       "    .dataframe tbody tr th:only-of-type {\n",
       "        vertical-align: middle;\n",
       "    }\n",
       "\n",
       "    .dataframe tbody tr th {\n",
       "        vertical-align: top;\n",
       "    }\n",
       "\n",
       "    .dataframe thead th {\n",
       "        text-align: right;\n",
       "    }\n",
       "</style>\n",
       "<table border=\"1\" class=\"dataframe\">\n",
       "  <thead>\n",
       "    <tr style=\"text-align: right;\">\n",
       "      <th></th>\n",
       "      <th>Year</th>\n",
       "      <th>Monthly Precipitation Total (millimetres)</th>\n",
       "    </tr>\n",
       "    <tr>\n",
       "      <th>Month</th>\n",
       "      <th></th>\n",
       "      <th></th>\n",
       "    </tr>\n",
       "  </thead>\n",
       "  <tbody>\n",
       "    <tr>\n",
       "      <th>1</th>\n",
       "      <td>56210</td>\n",
       "      <td>516.6</td>\n",
       "    </tr>\n",
       "    <tr>\n",
       "      <th>2</th>\n",
       "      <td>58203</td>\n",
       "      <td>414.0</td>\n",
       "    </tr>\n",
       "    <tr>\n",
       "      <th>3</th>\n",
       "      <td>58203</td>\n",
       "      <td>593.0</td>\n",
       "    </tr>\n",
       "    <tr>\n",
       "      <th>4</th>\n",
       "      <td>58203</td>\n",
       "      <td>1025.8</td>\n",
       "    </tr>\n",
       "    <tr>\n",
       "      <th>5</th>\n",
       "      <td>58203</td>\n",
       "      <td>2568.6</td>\n",
       "    </tr>\n",
       "  </tbody>\n",
       "</table>\n",
       "</div>"
      ],
      "text/plain": [
       "        Year  Monthly Precipitation Total (millimetres)\n",
       "Month                                                  \n",
       "1      56210                                      516.6\n",
       "2      58203                                      414.0\n",
       "3      58203                                      593.0\n",
       "4      58203                                     1025.8\n",
       "5      58203                                     2568.6"
      ]
     },
     "execution_count": 32,
     "metadata": {},
     "output_type": "execute_result"
    }
   ],
   "source": [
    "temp.head()"
   ]
  },
  {
   "cell_type": "markdown",
   "id": "c642502e-1023-4c30-a214-a08cd70b09fd",
   "metadata": {},
   "source": [
    "The `plot.bar()` and `plot.barh()` make vertical and horizontal bar plots, respectively. In the following example, the Series or DataFrame index will be used as the x values, and the `Monthly Precipitation Total (millimetres)` will be used as the y values."
   ]
  },
  {
   "cell_type": "code",
   "execution_count": 33,
   "id": "72ea08f0-3e43-477a-af8b-fee11588a8a9",
   "metadata": {},
   "outputs": [
    {
     "data": {
      "text/plain": [
       "<AxesSubplot:title={'center':'Rainfall by Month'}, xlabel='Month', ylabel='Rainfall (mm)'>"
      ]
     },
     "execution_count": 33,
     "metadata": {},
     "output_type": "execute_result"
    },
    {
     "data": {
      "image/png": "[encoded data removed]",
      "text/plain": [
       "<Figure size 720x720 with 1 Axes>"
      ]
     },
     "metadata": {
      "needs_background": "light"
     },
     "output_type": "display_data"
    }
   ],
   "source": [
    "temp.plot.bar(y='Monthly Precipitation Total (millimetres)',ylabel=\"Rainfall (mm)\", alpha=0.5, title=\"Rainfall by Month\")"
   ]
  },
  {
   "cell_type": "markdown",
   "id": "290b538e-9b14-4587-8bb8-d2d64165afdf",
   "metadata": {},
   "source": [
    "Below, we group the `rainfall_perth` DataFrame by year and calculate the total rainfall for the whole year.   \n",
    "   \n",
    "The`plot.barh()` function makes a horizontal bar plot. Here, the Series or DataFrame index, which is the year, will be used as the y values, and the sum of the `Monthly Precipitation Total (millimetres)` for each year will be used as the x values."
   ]
  },
  {
   "cell_type": "code",
   "execution_count": 34,
   "id": "862a4901-1019-448e-88a1-4c1e29944fb5",
   "metadata": {},
   "outputs": [
    {
     "data": {
      "text/plain": [
       "<AxesSubplot:ylabel='Year'>"
      ]
     },
     "execution_count": 34,
     "metadata": {},
     "output_type": "execute_result"
    },
    {
     "data": {
      "image/png": "[encoded data removed]",
      "text/plain": [
       "<Figure size 720x720 with 1 Axes>"
      ]
     },
     "metadata": {
      "needs_background": "light"
     },
     "output_type": "display_data"
    }
   ],
   "source": [
    "groupYear = rainfall_perth.groupby(['Year']).sum()\n",
    "groupYear.plot.barh(y='Monthly Precipitation Total (millimetres)')"
   ]
  },
  {
   "cell_type": "markdown",
   "id": "60dd3b49-aed8-4c90-910d-0451dbc554b6",
   "metadata": {},
   "source": [
    "## Boxplot"
   ]
  },
  {
   "cell_type": "markdown",
   "id": "8b03e4e2-6330-4755-81e3-dcdad11bedab",
   "metadata": {},
   "source": [
    "A box plot is a method for graphically depicting groups of numerical data through their quartiles. The box extends from the Q1 to Q3 quartile values of the data, with a line at the median (Q2). The whiskers extend from the edges of box to show the range (min and max) of the data.   \n",
    "   \n",
    "The `plot.box()` method can be used to make a box plot of a DataFrame."
   ]
  },
  {
   "cell_type": "code",
   "execution_count": 35,
   "id": "4f4a7307-26c0-4971-8b24-1675560e69eb",
   "metadata": {},
   "outputs": [
    {
     "data": {
      "text/plain": [
       "<AxesSubplot:title={'center':'Rainfall in Perth'}>"
      ]
     },
     "execution_count": 35,
     "metadata": {},
     "output_type": "execute_result"
    },
    {
     "data": {
      "image/png": "[encoded data removed]",
      "text/plain": [
       "<Figure size 720x720 with 1 Axes>"
      ]
     },
     "metadata": {
      "needs_background": "light"
     },
     "output_type": "display_data"
    }
   ],
   "source": [
    "#Group the rainfall data by year and the calculate the total rainfall for each year.\n",
    "rainfall_by_year = rainfall_perth.groupby(['Year']).sum()\n",
    "\n",
    "#Make a box plot of the 'Monthly Precipitation Total (millimetres)' column, with legend and plot title.\n",
    "rainfall_by_year['Monthly Precipitation Total (millimetres)'].plot.box(title=\"Rainfall in Perth\", legend=True)"
   ]
  },
  {
   "cell_type": "markdown",
   "id": "9b55629d-cac0-4949-b4a5-ceb0f0b71f80",
   "metadata": {},
   "source": [
    "The `vert=False` parameter can be used to make a horizontal box plot as such:"
   ]
  },
  {
   "cell_type": "code",
   "execution_count": 36,
   "id": "742c1eae-58bf-4dcc-9b6c-3f96caa6aec5",
   "metadata": {},
   "outputs": [
    {
     "data": {
      "text/plain": [
       "<AxesSubplot:title={'center':'Rainfall in Perth'}>"
      ]
     },
     "execution_count": 36,
     "metadata": {},
     "output_type": "execute_result"
    },
    {
     "data": {
      "image/png": "[encoded data removed]",
      "text/plain": [
       "<Figure size 720x720 with 1 Axes>"
      ]
     },
     "metadata": {
      "needs_background": "light"
     },
     "output_type": "display_data"
    }
   ],
   "source": [
    "rainfall_by_year['Monthly Precipitation Total (millimetres)'].plot.box(title=\"Rainfall in Perth\", legend=True, vert=False)"
   ]
  },
  {
   "cell_type": "markdown",
   "id": "4624e032-9229-436b-8a05-b17a2c95f96f",
   "metadata": {},
   "source": [
    "## Scatter plot"
   ]
  },
  {
   "cell_type": "markdown",
   "id": "735895d3-f06d-4afe-9cda-7f4c0400edfa",
   "metadata": {},
   "source": [
    "Scatter plots are very useful to see complex correlations between two variables.   \n",
    "    \n",
    "The `plot.scatter()` function is used to make scatter plots. The coordinates of each point are defined by two dataframe columns and filled circles are used to represent each point.   \n",
    "   \n",
    "In the following example, the 'Year' is used in the x-axis, and the sum of 'Monthly Precipitation Total (millimetres)' for each year in the y-axis."
   ]
  },
  {
   "cell_type": "code",
   "execution_count": 37,
   "id": "4be36694-b8f5-4077-8dd2-b7575fb83719",
   "metadata": {},
   "outputs": [
    {
     "data": {
      "text/plain": [
       "<AxesSubplot:title={'center':'Rainfall in Perth'}, xlabel='Year', ylabel='Monthly Precipitation Total (millimetres)'>"
      ]
     },
     "execution_count": 37,
     "metadata": {},
     "output_type": "execute_result"
    },
    {
     "data": {
      "image/png": "[encoded data removed]",
      "text/plain": [
       "<Figure size 720x720 with 1 Axes>"
      ]
     },
     "metadata": {
      "needs_background": "light"
     },
     "output_type": "display_data"
    }
   ],
   "source": [
    "rainfall_by_year.reset_index().plot.scatter(x='Year', y='Monthly Precipitation Total (millimetres)',title=\"Rainfall in Perth\", legend=True)"
   ]
  },
  {
   "cell_type": "code",
   "execution_count": null,
   "id": "a9aaf1a8-ddbd-48ea-bb1f-af7d34a4f73e",
   "metadata": {},
   "outputs": [],
   "source": []
  }
 ],
 "metadata": {
  "kernelspec": {
   "display_name": "Python 3 (ipykernel)",
   "language": "python",
   "name": "python3"
  },
  "language_info": {
   "codemirror_mode": {
    "name": "ipython",
    "version": 3
   },
   "file_extension": ".py",
   "mimetype": "text/x-python",
   "name": "python",
   "nbconvert_exporter": "python",
   "pygments_lexer": "ipython3",
   "version": "3.9.6"
  }
 },
 "nbformat": 4,
 "nbformat_minor": 5
}
